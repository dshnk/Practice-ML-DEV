{
 "cells": [
  {
   "cell_type": "code",
   "execution_count": null,
   "id": "f6edbdad",
   "metadata": {},
   "outputs": [],
   "source": [
    "import pandas as pd"
   ]
  },
  {
   "cell_type": "code",
   "execution_count": 3,
   "id": "420af33d",
   "metadata": {},
   "outputs": [],
   "source": [
    "from sklearn.model_selection import train_test_split\n",
    "from sklearn.linear_model import LogisticRegression\n",
    "from sklearn.ensemble import RandomForestClassifier, GradientBoostingClassifier\n",
    "from sklearn.metrics import accuracy_score, precision_score, recall_score, f1_score, roc_auc_score\n"
   ]
  },
  {
   "cell_type": "code",
   "execution_count": 5,
   "id": "63ebc3e4",
   "metadata": {},
   "outputs": [],
   "source": [
    "from sklearn.model_selection import GridSearchCV"
   ]
  },
  {
   "cell_type": "code",
   "execution_count": 2,
   "id": "812aa220",
   "metadata": {},
   "outputs": [
    {
     "name": "stdout",
     "output_type": "stream",
     "text": [
      "      SEQN age_group  RIDAGEYR  RIAGENDR  PAQ605  BMXBMI  LBXGLU  DIQ010  \\\n",
      "0  73564.0     Adult      61.0       2.0     2.0    35.7   110.0     2.0   \n",
      "1  73568.0     Adult      26.0       2.0     2.0    20.3    89.0     2.0   \n",
      "2  73576.0     Adult      16.0       1.0     2.0    23.2    89.0     2.0   \n",
      "3  73577.0     Adult      32.0       1.0     2.0    28.9   104.0     2.0   \n",
      "4  73580.0     Adult      38.0       2.0     1.0    35.9   103.0     2.0   \n",
      "\n",
      "   LBXGLT  LBXIN  \n",
      "0   150.0  14.91  \n",
      "1    80.0   3.85  \n",
      "2    68.0   6.14  \n",
      "3    84.0  16.15  \n",
      "4    81.0  10.92  \n",
      "<class 'pandas.core.frame.DataFrame'>\n",
      "RangeIndex: 2278 entries, 0 to 2277\n",
      "Data columns (total 10 columns):\n",
      " #   Column     Non-Null Count  Dtype  \n",
      "---  ------     --------------  -----  \n",
      " 0   SEQN       2278 non-null   float64\n",
      " 1   age_group  2278 non-null   object \n",
      " 2   RIDAGEYR   2278 non-null   float64\n",
      " 3   RIAGENDR   2278 non-null   float64\n",
      " 4   PAQ605     2278 non-null   float64\n",
      " 5   BMXBMI     2278 non-null   float64\n",
      " 6   LBXGLU     2278 non-null   float64\n",
      " 7   DIQ010     2278 non-null   float64\n",
      " 8   LBXGLT     2278 non-null   float64\n",
      " 9   LBXIN      2278 non-null   float64\n",
      "dtypes: float64(9), object(1)\n",
      "memory usage: 178.1+ KB\n",
      "None\n",
      "               SEQN     RIDAGEYR     RIAGENDR       PAQ605       BMXBMI  \\\n",
      "count   2278.000000  2278.000000  2278.000000  2278.000000  2278.000000   \n",
      "mean   78691.853819    41.795874     1.511414     1.822651    27.955180   \n",
      "std     2921.365151    20.156111     0.499979     0.398918     7.248962   \n",
      "min    73564.000000    12.000000     1.000000     1.000000    14.500000   \n",
      "25%    76171.750000    24.000000     1.000000     2.000000    22.800000   \n",
      "50%    78749.000000    41.000000     2.000000     2.000000    26.800000   \n",
      "75%    81213.500000    58.000000     2.000000     2.000000    31.200000   \n",
      "max    83727.000000    80.000000     2.000000     7.000000    70.100000   \n",
      "\n",
      "            LBXGLU       DIQ010       LBXGLT        LBXIN  \n",
      "count  2278.000000  2278.000000  2278.000000  2278.000000  \n",
      "mean     99.553117     2.016242   114.978929    11.834794  \n",
      "std      17.889834     0.185556    47.061239     9.718812  \n",
      "min      63.000000     1.000000    40.000000     0.140000  \n",
      "25%      91.000000     2.000000    87.000000     5.860000  \n",
      "50%      97.000000     2.000000   105.000000     9.040000  \n",
      "75%     104.000000     2.000000   130.000000    14.440000  \n",
      "max     405.000000     3.000000   604.000000   102.290000  \n",
      "SEQN         0\n",
      "age_group    0\n",
      "RIDAGEYR     0\n",
      "RIAGENDR     0\n",
      "PAQ605       0\n",
      "BMXBMI       0\n",
      "LBXGLU       0\n",
      "DIQ010       0\n",
      "LBXGLT       0\n",
      "LBXIN        0\n",
      "dtype: int64\n"
     ]
    }
   ],
   "source": [
    "# Загрузка данных\n",
    "data = pd.read_csv('dataset4.csv')\n",
    "print(data.head())\n",
    "# Общая информация о данных\n",
    "print(data.info())\n",
    "# Статистика по числовым признакам\n",
    "print(data.describe())\n",
    "# Проверим наличие пропущенных значений\n",
    "print(data.isnull().sum())\n"
   ]
  },
  {
   "cell_type": "code",
   "execution_count": 19,
   "id": "1a122314",
   "metadata": {},
   "outputs": [],
   "source": [
    "X = data.drop(['SEQN', 'age_group', 'RIDAGEYR'], axis=1)  # Признаки\n",
    "y = data['age_group']  # Целевая переменная\n",
    "\n",
    "# Разделение на обучающий и тестовый наборы данных\n",
    "X_train, X_test, y_train, y_test = train_test_split(X, y, test_size=0.2, random_state=42)"
   ]
  },
  {
   "cell_type": "code",
   "execution_count": 20,
   "id": "59d0d730",
   "metadata": {
    "scrolled": true
   },
   "outputs": [
    {
     "data": {
      "text/html": [
       "<div>\n",
       "<style scoped>\n",
       "    .dataframe tbody tr th:only-of-type {\n",
       "        vertical-align: middle;\n",
       "    }\n",
       "\n",
       "    .dataframe tbody tr th {\n",
       "        vertical-align: top;\n",
       "    }\n",
       "\n",
       "    .dataframe thead th {\n",
       "        text-align: right;\n",
       "    }\n",
       "</style>\n",
       "<table border=\"1\" class=\"dataframe\">\n",
       "  <thead>\n",
       "    <tr style=\"text-align: right;\">\n",
       "      <th></th>\n",
       "      <th>RIAGENDR</th>\n",
       "      <th>PAQ605</th>\n",
       "      <th>BMXBMI</th>\n",
       "      <th>LBXGLU</th>\n",
       "      <th>DIQ010</th>\n",
       "      <th>LBXGLT</th>\n",
       "      <th>LBXIN</th>\n",
       "    </tr>\n",
       "  </thead>\n",
       "  <tbody>\n",
       "    <tr>\n",
       "      <th>2009</th>\n",
       "      <td>1.0</td>\n",
       "      <td>2.0</td>\n",
       "      <td>20.8</td>\n",
       "      <td>99.0</td>\n",
       "      <td>2.0</td>\n",
       "      <td>73.0</td>\n",
       "      <td>8.43</td>\n",
       "    </tr>\n",
       "    <tr>\n",
       "      <th>2143</th>\n",
       "      <td>1.0</td>\n",
       "      <td>2.0</td>\n",
       "      <td>28.1</td>\n",
       "      <td>100.0</td>\n",
       "      <td>2.0</td>\n",
       "      <td>210.0</td>\n",
       "      <td>4.00</td>\n",
       "    </tr>\n",
       "    <tr>\n",
       "      <th>2016</th>\n",
       "      <td>2.0</td>\n",
       "      <td>1.0</td>\n",
       "      <td>28.9</td>\n",
       "      <td>92.0</td>\n",
       "      <td>2.0</td>\n",
       "      <td>77.0</td>\n",
       "      <td>7.89</td>\n",
       "    </tr>\n",
       "    <tr>\n",
       "      <th>8</th>\n",
       "      <td>1.0</td>\n",
       "      <td>2.0</td>\n",
       "      <td>38.9</td>\n",
       "      <td>89.0</td>\n",
       "      <td>2.0</td>\n",
       "      <td>113.0</td>\n",
       "      <td>17.47</td>\n",
       "    </tr>\n",
       "    <tr>\n",
       "      <th>1602</th>\n",
       "      <td>2.0</td>\n",
       "      <td>2.0</td>\n",
       "      <td>27.7</td>\n",
       "      <td>99.0</td>\n",
       "      <td>2.0</td>\n",
       "      <td>133.0</td>\n",
       "      <td>5.76</td>\n",
       "    </tr>\n",
       "    <tr>\n",
       "      <th>...</th>\n",
       "      <td>...</td>\n",
       "      <td>...</td>\n",
       "      <td>...</td>\n",
       "      <td>...</td>\n",
       "      <td>...</td>\n",
       "      <td>...</td>\n",
       "      <td>...</td>\n",
       "    </tr>\n",
       "    <tr>\n",
       "      <th>1638</th>\n",
       "      <td>1.0</td>\n",
       "      <td>1.0</td>\n",
       "      <td>28.1</td>\n",
       "      <td>112.0</td>\n",
       "      <td>3.0</td>\n",
       "      <td>110.0</td>\n",
       "      <td>14.94</td>\n",
       "    </tr>\n",
       "    <tr>\n",
       "      <th>1095</th>\n",
       "      <td>2.0</td>\n",
       "      <td>2.0</td>\n",
       "      <td>29.1</td>\n",
       "      <td>119.0</td>\n",
       "      <td>2.0</td>\n",
       "      <td>216.0</td>\n",
       "      <td>12.21</td>\n",
       "    </tr>\n",
       "    <tr>\n",
       "      <th>1130</th>\n",
       "      <td>2.0</td>\n",
       "      <td>2.0</td>\n",
       "      <td>22.8</td>\n",
       "      <td>120.0</td>\n",
       "      <td>2.0</td>\n",
       "      <td>242.0</td>\n",
       "      <td>17.92</td>\n",
       "    </tr>\n",
       "    <tr>\n",
       "      <th>1294</th>\n",
       "      <td>2.0</td>\n",
       "      <td>1.0</td>\n",
       "      <td>24.1</td>\n",
       "      <td>97.0</td>\n",
       "      <td>2.0</td>\n",
       "      <td>114.0</td>\n",
       "      <td>3.21</td>\n",
       "    </tr>\n",
       "    <tr>\n",
       "      <th>860</th>\n",
       "      <td>2.0</td>\n",
       "      <td>2.0</td>\n",
       "      <td>21.9</td>\n",
       "      <td>83.0</td>\n",
       "      <td>2.0</td>\n",
       "      <td>112.0</td>\n",
       "      <td>21.85</td>\n",
       "    </tr>\n",
       "  </tbody>\n",
       "</table>\n",
       "<p>1822 rows × 7 columns</p>\n",
       "</div>"
      ],
      "text/plain": [
       "      RIAGENDR  PAQ605  BMXBMI  LBXGLU  DIQ010  LBXGLT  LBXIN\n",
       "2009       1.0     2.0    20.8    99.0     2.0    73.0   8.43\n",
       "2143       1.0     2.0    28.1   100.0     2.0   210.0   4.00\n",
       "2016       2.0     1.0    28.9    92.0     2.0    77.0   7.89\n",
       "8          1.0     2.0    38.9    89.0     2.0   113.0  17.47\n",
       "1602       2.0     2.0    27.7    99.0     2.0   133.0   5.76\n",
       "...        ...     ...     ...     ...     ...     ...    ...\n",
       "1638       1.0     1.0    28.1   112.0     3.0   110.0  14.94\n",
       "1095       2.0     2.0    29.1   119.0     2.0   216.0  12.21\n",
       "1130       2.0     2.0    22.8   120.0     2.0   242.0  17.92\n",
       "1294       2.0     1.0    24.1    97.0     2.0   114.0   3.21\n",
       "860        2.0     2.0    21.9    83.0     2.0   112.0  21.85\n",
       "\n",
       "[1822 rows x 7 columns]"
      ]
     },
     "execution_count": 20,
     "metadata": {},
     "output_type": "execute_result"
    }
   ],
   "source": [
    "X_train"
   ]
  },
  {
   "cell_type": "code",
   "execution_count": 23,
   "id": "589d9007",
   "metadata": {
    "scrolled": true
   },
   "outputs": [
    {
     "data": {
      "text/plain": [
       "2009     Adult\n",
       "2143    Senior\n",
       "2016     Adult\n",
       "8       Senior\n",
       "1602     Adult\n",
       "         ...  \n",
       "1638    Senior\n",
       "1095    Senior\n",
       "1130     Adult\n",
       "1294     Adult\n",
       "860      Adult\n",
       "Name: age_group, Length: 1822, dtype: object"
      ]
     },
     "execution_count": 23,
     "metadata": {},
     "output_type": "execute_result"
    }
   ],
   "source": [
    "y_train"
   ]
  },
  {
   "cell_type": "code",
   "execution_count": 24,
   "id": "657dad48",
   "metadata": {},
   "outputs": [],
   "source": [
    "from sklearn.preprocessing import LabelEncoder\n",
    "\n",
    "label_encoder = LabelEncoder()\n",
    "y_train = label_encoder.fit_transform(y_train)\n",
    "y_test=label_encoder.fit_transform(y_test)"
   ]
  },
  {
   "cell_type": "code",
   "execution_count": 25,
   "id": "12d1fe3e",
   "metadata": {},
   "outputs": [
    {
     "data": {
      "text/plain": [
       "array([0, 1, 0, ..., 0, 0, 0])"
      ]
     },
     "execution_count": 25,
     "metadata": {},
     "output_type": "execute_result"
    }
   ],
   "source": [
    "y_train"
   ]
  },
  {
   "cell_type": "code",
   "execution_count": 26,
   "id": "ccf5588b",
   "metadata": {},
   "outputs": [
    {
     "data": {
      "text/plain": [
       "array([0, 0, 0, 0, 0, 0, 0, 0, 0, 0, 1, 0, 0, 0, 1, 1, 0, 0, 0, 0, 0, 0,\n",
       "       0, 1, 0, 0, 0, 0, 0, 0, 0, 0, 0, 1, 1, 0, 0, 0, 0, 0, 0, 0, 0, 0,\n",
       "       0, 1, 0, 1, 0, 0, 1, 0, 0, 0, 0, 0, 0, 0, 0, 0, 0, 0, 0, 0, 0, 0,\n",
       "       0, 1, 0, 1, 0, 0, 0, 0, 0, 0, 0, 0, 1, 0, 0, 0, 1, 0, 0, 0, 0, 0,\n",
       "       0, 0, 1, 0, 0, 0, 0, 0, 1, 0, 0, 0, 0, 0, 0, 0, 0, 0, 0, 0, 0, 0,\n",
       "       0, 0, 0, 0, 0, 0, 0, 0, 0, 0, 0, 0, 1, 0, 0, 0, 0, 1, 0, 0, 0, 0,\n",
       "       0, 1, 0, 0, 0, 0, 0, 0, 0, 1, 1, 0, 0, 1, 0, 0, 1, 1, 0, 0, 0, 0,\n",
       "       0, 1, 0, 0, 0, 0, 1, 0, 0, 1, 0, 0, 0, 0, 0, 0, 0, 0, 1, 0, 0, 0,\n",
       "       0, 0, 0, 0, 0, 0, 1, 0, 0, 0, 1, 0, 0, 0, 1, 0, 0, 0, 1, 0, 0, 0,\n",
       "       0, 1, 0, 0, 0, 0, 0, 1, 0, 0, 0, 1, 0, 0, 0, 0, 0, 0, 0, 0, 0, 0,\n",
       "       0, 0, 0, 0, 0, 0, 0, 0, 0, 0, 0, 0, 0, 0, 0, 0, 0, 0, 1, 0, 1, 0,\n",
       "       0, 0, 1, 0, 1, 0, 0, 1, 0, 0, 0, 0, 1, 0, 0, 0, 0, 0, 0, 1, 0, 1,\n",
       "       0, 0, 0, 0, 0, 1, 0, 0, 0, 0, 0, 0, 0, 0, 0, 0, 0, 1, 0, 0, 0, 0,\n",
       "       0, 0, 0, 0, 0, 0, 0, 0, 0, 0, 0, 0, 0, 0, 1, 0, 1, 0, 0, 0, 0, 0,\n",
       "       0, 0, 0, 0, 0, 0, 1, 1, 0, 0, 0, 1, 0, 0, 0, 0, 0, 0, 0, 0, 0, 0,\n",
       "       0, 0, 0, 1, 0, 1, 0, 0, 0, 0, 0, 0, 0, 0, 0, 0, 1, 1, 0, 1, 1, 0,\n",
       "       0, 0, 1, 0, 0, 0, 0, 0, 0, 0, 0, 0, 0, 0, 0, 0, 0, 0, 1, 0, 0, 0,\n",
       "       0, 0, 0, 0, 0, 0, 0, 1, 1, 0, 0, 1, 0, 0, 0, 0, 0, 0, 0, 1, 0, 0,\n",
       "       0, 0, 0, 0, 0, 0, 0, 0, 0, 0, 0, 0, 1, 0, 0, 1, 0, 0, 0, 0, 0, 0,\n",
       "       0, 0, 1, 0, 0, 1, 0, 1, 0, 0, 0, 1, 0, 0, 0, 1, 0, 0, 0, 0, 0, 0,\n",
       "       0, 0, 1, 0, 1, 1, 0, 1, 0, 0, 0, 1, 0, 0, 1, 0])"
      ]
     },
     "execution_count": 26,
     "metadata": {},
     "output_type": "execute_result"
    }
   ],
   "source": [
    "y_test"
   ]
  },
  {
   "cell_type": "code",
   "execution_count": 27,
   "id": "7e844565",
   "metadata": {},
   "outputs": [
    {
     "name": "stdout",
     "output_type": "stream",
     "text": [
      "Лучшие параметры для случайного леса: {'max_depth': None, 'min_samples_leaf': 2, 'min_samples_split': 10, 'n_estimators': 300}\n"
     ]
    }
   ],
   "source": [
    "rf_param_grid = {\n",
    "    'n_estimators': [100, 300, 500],\n",
    "    'max_depth': [None, 5, 10, 20],\n",
    "    'min_samples_split': [2, 5, 10],\n",
    "    'min_samples_leaf': [1, 2, 4]\n",
    "}\n",
    "\n",
    "rf = RandomForestClassifier()\n",
    "rf_grid = GridSearchCV(rf, rf_param_grid, cv=5, scoring='accuracy')\n",
    "rf_grid.fit(X_train, y_train)\n",
    "\n",
    "print(\"Лучшие параметры для случайного леса:\", rf_grid.best_params_)\n",
    "best_rf = rf_grid.best_estimator_"
   ]
  },
  {
   "cell_type": "code",
   "execution_count": 29,
   "id": "53c45a4e",
   "metadata": {},
   "outputs": [
    {
     "name": "stdout",
     "output_type": "stream",
     "text": [
      "Accuracy: 0.8421052631578947\n",
      "Precision: 0.5555555555555556\n",
      "Recall: 0.13513513513513514\n",
      "F1 Score: 0.2173913043478261\n"
     ]
    }
   ],
   "source": [
    "rf_pred = best_rf.predict(X_test)\n",
    "print(\"Accuracy:\", accuracy_score(y_test, rf_pred))\n",
    "print(\"Precision:\", precision_score(y_test, rf_pred))\n",
    "print(\"Recall:\", recall_score(y_test, rf_pred))\n",
    "print(\"F1 Score:\", f1_score(y_test, rf_pred))"
   ]
  },
  {
   "cell_type": "code",
   "execution_count": 30,
   "id": "a19356b2",
   "metadata": {},
   "outputs": [
    {
     "name": "stdout",
     "output_type": "stream",
     "text": [
      "Лучшие параметры для градиентного бустинга: {'learning_rate': 0.01, 'max_depth': 5, 'n_estimators': 500}\n"
     ]
    }
   ],
   "source": [
    "gb_param_grid = {\n",
    "    'n_estimators': [100, 300, 500],\n",
    "    'learning_rate': [0.01, 0.1, 0.2],\n",
    "    'max_depth': [3, 5, 7]\n",
    "}\n",
    "\n",
    "gb = GradientBoostingClassifier()\n",
    "gb_grid = GridSearchCV(gb, gb_param_grid, cv=5, scoring='accuracy')\n",
    "gb_grid.fit(X_train, y_train)\n",
    "\n",
    "print(\"Лучшие параметры для градиентного бустинга:\", gb_grid.best_params_)\n",
    "best_gb = gb_grid.best_estimator_"
   ]
  },
  {
   "cell_type": "code",
   "execution_count": 31,
   "id": "4fd09210",
   "metadata": {},
   "outputs": [
    {
     "name": "stdout",
     "output_type": "stream",
     "text": [
      "\n",
      "Gradient Boosting:\n",
      "Accuracy: 0.831140350877193\n",
      "Precision: 0.44\n",
      "Recall: 0.14864864864864866\n",
      "F1 Score: 0.2222222222222222\n"
     ]
    }
   ],
   "source": [
    "gb_pred = best_gb.predict(X_test)\n",
    "print(\"\\nGradient Boosting:\")\n",
    "print(\"Accuracy:\", accuracy_score(y_test, gb_pred))\n",
    "print(\"Precision:\", precision_score(y_test, gb_pred))\n",
    "print(\"Recall:\", recall_score(y_test, gb_pred))\n",
    "print(\"F1 Score:\", f1_score(y_test, gb_pred))"
   ]
  },
  {
   "cell_type": "code",
   "execution_count": 33,
   "id": "37ab3c46",
   "metadata": {},
   "outputs": [
    {
     "name": "stdout",
     "output_type": "stream",
     "text": [
      "Лучшие параметры для SVM: {'C': 10, 'kernel': 'rbf'}\n"
     ]
    }
   ],
   "source": [
    "from sklearn.svm import SVC\n",
    "\n",
    "svm_param_grid = {\n",
    "    'C': [0.1, 1, 10],\n",
    "    'kernel': ['linear', 'rbf']\n",
    "}\n",
    "\n",
    "svm = SVC()\n",
    "svm_grid = GridSearchCV(svm, svm_param_grid, cv=5, scoring='accuracy')\n",
    "svm_grid.fit(X_train, y_train)\n",
    "\n",
    "print(\"Лучшие параметры для SVM:\", svm_grid.best_params_)\n",
    "best_svm = svm_grid.best_estimator_"
   ]
  },
  {
   "cell_type": "code",
   "execution_count": 34,
   "id": "5528b21e",
   "metadata": {},
   "outputs": [
    {
     "name": "stdout",
     "output_type": "stream",
     "text": [
      "\n",
      "Gradient Boosting:\n",
      "Accuracy: 0.8421052631578947\n",
      "Precision: 0.6666666666666666\n",
      "Recall: 0.05405405405405406\n",
      "F1 Score: 0.1\n"
     ]
    }
   ],
   "source": [
    "svm_pred = best_svm.predict(X_test)\n",
    "print(\"\\nGradient Boosting:\")\n",
    "print(\"Accuracy:\", accuracy_score(y_test, svm_pred))\n",
    "print(\"Precision:\", precision_score(y_test, svm_pred))\n",
    "print(\"Recall:\", recall_score(y_test, svm_pred))\n",
    "print(\"F1 Score:\", f1_score(y_test, svm_pred))"
   ]
  },
  {
   "cell_type": "code",
   "execution_count": 35,
   "id": "aa18371e",
   "metadata": {},
   "outputs": [
    {
     "name": "stdout",
     "output_type": "stream",
     "text": [
      "Лучшие параметры для KNN: {'algorithm': 'auto', 'n_neighbors': 20, 'weights': 'uniform'}\n"
     ]
    }
   ],
   "source": [
    "from sklearn.neighbors import KNeighborsClassifier\n",
    "\n",
    "knn_param_grid = {\n",
    "    'n_neighbors': [3, 5, 7, 10, 20],\n",
    "    'weights': ['uniform', 'distance'],\n",
    "    'algorithm': ['auto', 'ball_tree', 'kd_tree']\n",
    "}\n",
    "\n",
    "knn = KNeighborsClassifier()\n",
    "knn_grid = GridSearchCV(knn, knn_param_grid, cv=5, scoring='accuracy')\n",
    "knn_grid.fit(X_train, y_train)\n",
    "\n",
    "print(\"Лучшие параметры для KNN:\", knn_grid.best_params_)\n",
    "best_knn = knn_grid.best_estimator_"
   ]
  },
  {
   "cell_type": "code",
   "execution_count": 37,
   "id": "895b79cf",
   "metadata": {},
   "outputs": [
    {
     "name": "stdout",
     "output_type": "stream",
     "text": [
      "\n",
      "Gradient Boosting:\n",
      "Accuracy: 0.8421052631578947\n",
      "Precision: 0.5625\n",
      "Recall: 0.12162162162162163\n",
      "F1 Score: 0.20000000000000004\n"
     ]
    }
   ],
   "source": [
    "knn_pred = best_knn.predict(X_test)\n",
    "print(\"\\nGradient Boosting:\")\n",
    "print(\"Accuracy:\", accuracy_score(y_test, knn_pred))\n",
    "print(\"Precision:\", precision_score(y_test, knn_pred))\n",
    "print(\"Recall:\", recall_score(y_test, knn_pred))\n",
    "print(\"F1 Score:\", f1_score(y_test, knn_pred))"
   ]
  },
  {
   "cell_type": "code",
   "execution_count": 36,
   "id": "0da7493e",
   "metadata": {},
   "outputs": [
    {
     "name": "stdout",
     "output_type": "stream",
     "text": [
      "Лучшие параметры для Decision Trees: {'max_depth': 5, 'min_samples_leaf': 4, 'min_samples_split': 2}\n"
     ]
    }
   ],
   "source": [
    "from sklearn.tree import DecisionTreeClassifier\n",
    "\n",
    "tree_param_grid = {\n",
    "    'max_depth': [None, 5, 10, 20],\n",
    "    'min_samples_split': [2, 5, 10],\n",
    "    'min_samples_leaf': [1, 2, 4]\n",
    "}\n",
    "\n",
    "tree = DecisionTreeClassifier()\n",
    "tree_grid = GridSearchCV(tree, tree_param_grid, cv=5, scoring='accuracy')\n",
    "tree_grid.fit(X_train, y_train)\n",
    "\n",
    "print(\"Лучшие параметры для Decision Trees:\", tree_grid.best_params_)\n",
    "best_tree = tree_grid.best_estimator_"
   ]
  },
  {
   "cell_type": "code",
   "execution_count": 38,
   "id": "ebd258ac",
   "metadata": {},
   "outputs": [
    {
     "name": "stdout",
     "output_type": "stream",
     "text": [
      "\n",
      "Gradient Boosting:\n",
      "Accuracy: 0.8377192982456141\n",
      "Precision: 0.5\n",
      "Recall: 0.20270270270270271\n",
      "F1 Score: 0.28846153846153844\n"
     ]
    }
   ],
   "source": [
    "tree_pred = best_tree.predict(X_test)\n",
    "print(\"\\nGradient Boosting:\")\n",
    "print(\"Accuracy:\", accuracy_score(y_test, tree_pred))\n",
    "print(\"Precision:\", precision_score(y_test, tree_pred))\n",
    "print(\"Recall:\", recall_score(y_test, tree_pred))\n",
    "print(\"F1 Score:\", f1_score(y_test, tree_pred))"
   ]
  },
  {
   "cell_type": "code",
   "execution_count": 40,
   "id": "a6e9ca88",
   "metadata": {},
   "outputs": [
    {
     "data": {
      "text/plain": [
       "['best_rf_model.pkl']"
      ]
     },
     "execution_count": 40,
     "metadata": {},
     "output_type": "execute_result"
    }
   ],
   "source": [
    "import joblib\n",
    "\n",
    "# Сохранение моделей локально\n",
    "joblib.dump(best_tree, 'best_tree_model.pkl')\n",
    "joblib.dump(best_knn, 'best_knn_model.pkl')\n",
    "joblib.dump(best_svm, 'best_svm_model.pkl')\n",
    "joblib.dump(best_gb, 'best_gb_model.pkl')\n",
    "joblib.dump(best_rf, 'best_rf_model.pkl')"
   ]
  },
  {
   "cell_type": "code",
   "execution_count": null,
   "id": "8e8b5537",
   "metadata": {},
   "outputs": [],
   "source": []
  }
 ],
 "metadata": {
  "kernelspec": {
   "display_name": "Python 3 (ipykernel)",
   "language": "python",
   "name": "python3"
  },
  "language_info": {
   "codemirror_mode": {
    "name": "ipython",
    "version": 3
   },
   "file_extension": ".py",
   "mimetype": "text/x-python",
   "name": "python",
   "nbconvert_exporter": "python",
   "pygments_lexer": "ipython3",
   "version": "3.9.7"
  }
 },
 "nbformat": 4,
 "nbformat_minor": 5
}
